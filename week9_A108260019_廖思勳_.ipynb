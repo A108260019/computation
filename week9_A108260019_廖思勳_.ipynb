{
  "nbformat": 4,
  "nbformat_minor": 0,
  "metadata": {
    "colab": {
      "name": "week9_A108260019_廖思勳_.ipynb",
      "provenance": [],
      "include_colab_link": true
    },
    "kernelspec": {
      "name": "python3",
      "display_name": "Python 3"
    }
  },
  "cells": [
    {
      "cell_type": "markdown",
      "metadata": {
        "id": "view-in-github",
        "colab_type": "text"
      },
      "source": [
        "<a href=\"https://colab.research.google.com/github/s9611890/computation/blob/master/week9_A108260019_%E5%BB%96%E6%80%9D%E5%8B%B3_.ipynb\" target=\"_parent\"><img src=\"https://colab.research.google.com/assets/colab-badge.svg\" alt=\"Open In Colab\"/></a>"
      ]
    },
    {
      "cell_type": "code",
      "metadata": {
        "id": "zC6O86xyp04v",
        "colab_type": "code",
        "colab": {
          "base_uri": "https://localhost:8080/",
          "height": 52
        },
        "outputId": "ae15fd5d-ae98-4d54-ffc8-e1c78418cdaf"
      },
      "source": [
        "score=int(input('請輸入一個成績?'))\n",
        "if score >=60:\n",
        "  print('well done')"
      ],
      "execution_count": 1,
      "outputs": [
        {
          "output_type": "stream",
          "text": [
            "請輸入一個成績?88\n",
            "well done\n"
          ],
          "name": "stdout"
        }
      ]
    },
    {
      "cell_type": "code",
      "metadata": {
        "id": "xBswBFL4qGa_",
        "colab_type": "code",
        "colab": {
          "base_uri": "https://localhost:8080/",
          "height": 52
        },
        "outputId": "492c702a-fd3a-4843-a391-bd263ba0666a"
      },
      "source": [
        "score = int(input('請輸入一個成績?'))\n",
        "if score >=60:\n",
        "  print(有及格)\n",
        "else:\n",
        "  print('不及格')"
      ],
      "execution_count": 2,
      "outputs": [
        {
          "output_type": "stream",
          "text": [
            "請輸入一個成績?50\n",
            "不及格\n"
          ],
          "name": "stdout"
        }
      ]
    },
    {
      "cell_type": "code",
      "metadata": {
        "id": "sCVk2MLNqKbp",
        "colab_type": "code",
        "colab": {
          "base_uri": "https://localhost:8080/",
          "height": 52
        },
        "outputId": "d0d9afe4-f0c3-4b4e-e5c1-82f4d3f59d7e"
      },
      "source": [
        "score=int(input('請輸入一個成績?'))\n",
        "if score >=80:\n",
        "  print('非常好')\n",
        "elif score >=60:\n",
        "  print('不錯喔')\n",
        "else:\n",
        "  print('加油')"
      ],
      "execution_count": 3,
      "outputs": [
        {
          "output_type": "stream",
          "text": [
            "請輸入一個成績?66\n",
            "不錯喔\n"
          ],
          "name": "stdout"
        }
      ]
    },
    {
      "cell_type": "code",
      "metadata": {
        "id": "ptQFYfUPqQRK",
        "colab_type": "code",
        "colab": {
          "base_uri": "https://localhost:8080/",
          "height": 70
        },
        "outputId": "ae363eef-1838-4a02-89d2-7c8b7453eb3a"
      },
      "source": [
        "x= float(input('請輸入該點x座標?'))\n",
        "y= float(input('請輸入該點y座標?'))\n",
        "if(x>0):\n",
        "  if(y>0):\n",
        "    print('該點在第一象限')\n",
        "  else:\n",
        "    print('該點在第四象限')\n",
        "else:\n",
        "  if(y>0):\n",
        "    print('該點在第二象限')\n",
        "  else:\n",
        "    print('該點在第三象限')"
      ],
      "execution_count": 4,
      "outputs": [
        {
          "output_type": "stream",
          "text": [
            "請輸入該點x座標?1\n",
            "請輸入該點y座標?1\n",
            "該點在第一象限\n"
          ],
          "name": "stdout"
        }
      ]
    },
    {
      "cell_type": "code",
      "metadata": {
        "id": "lQXlQliTqWDH",
        "colab_type": "code",
        "colab": {
          "base_uri": "https://localhost:8080/",
          "height": 52
        },
        "outputId": "aa212a7e-5d1f-46fd-9acf-0bde11a2f478"
      },
      "source": [
        "cost = int(input('請輸入購買金額'))\n",
        "if cost >=2000:\n",
        "  print(cost*0.9)\n",
        "else:\n",
        "  print(cost)"
      ],
      "execution_count": 5,
      "outputs": [
        {
          "output_type": "stream",
          "text": [
            "請輸入購買金額2000\n",
            "1800.0\n"
          ],
          "name": "stdout"
        }
      ]
    },
    {
      "cell_type": "code",
      "metadata": {
        "id": "Xjvwsmv4qivu",
        "colab_type": "code",
        "colab": {
          "base_uri": "https://localhost:8080/",
          "height": 52
        },
        "outputId": "bd41682e-4202-4a99-d3d0-859c5730ebf1"
      },
      "source": [
        "num = int(input('請輸入⼀個整數？'))\n",
        "if num % 2 == 0: \n",
        " print(num, '為偶數')\n",
        "else:\n",
        " print(num, '為奇數')"
      ],
      "execution_count": 7,
      "outputs": [
        {
          "output_type": "stream",
          "text": [
            "請輸入⼀個整數？13\n",
            "13 為奇數\n"
          ],
          "name": "stdout"
        }
      ]
    }
  ]
}