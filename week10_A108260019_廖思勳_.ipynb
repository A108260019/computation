{
  "nbformat": 4,
  "nbformat_minor": 0,
  "metadata": {
    "colab": {
      "name": "week10_A108260019_廖思勳_.ipynb",
      "provenance": [],
      "include_colab_link": true
    },
    "kernelspec": {
      "name": "python3",
      "display_name": "Python 3"
    }
  },
  "cells": [
    {
      "cell_type": "markdown",
      "metadata": {
        "id": "view-in-github",
        "colab_type": "text"
      },
      "source": [
        "<a href=\"https://colab.research.google.com/github/s9611890/computation/blob/master/week10_A108260019_%E5%BB%96%E6%80%9D%E5%8B%B3_.ipynb\" target=\"_parent\"><img src=\"https://colab.research.google.com/assets/colab-badge.svg\" alt=\"Open In Colab\"/></a>"
      ]
    },
    {
      "cell_type": "code",
      "metadata": {
        "id": "3o6yfS2yI50p",
        "colab_type": "code",
        "colab": {
          "base_uri": "https://localhost:8080/",
          "height": 135
        },
        "outputId": "39ee72f3-4555-4a4d-ae9f-d62d47b85370"
      },
      "source": [
        "print(\"You are on a deserted island in a 2D world.\")\n",
        "print(\"Try to survive until rescue arrives!\")\n",
        "print(\"Available commands are in CAPITAL letters.\")\n",
        "print(\"Any other command exits the program\")\n",
        "print(\"First LOOK around...\")\n",
        "do = input(\":: \")\n",
        "if do == \"LOOK\":\n",
        "  print(\"You are stuck in a sand ditch.\")\n",
        "  print(\"Crawl out LEFT or RIGHT.\")\n",
        "  do = input(\":: \")\n",
        "  if do == \"LEFT\":\n",
        "    print(\"You see a STARFISH and a CRAB on the sand.\")\n",
        "    print(\"And you're hungry! Which do you eat?\")\n",
        "\n",
        "\n",
        "  do = input(\":: \") \n",
        "  if do == \"STARFISH\": \n",
        "    print(\"Oh no! You immediately don't feel well.\")\n",
        "    print(\"You do not survive :(\") \n",
        "  elif do == \"CRAB\": \n",
        "    print(\"Raw crab should be fine, right? YES or NO.\")\n",
        "\n",
        " \n",
        "  do = input(\":: \") \n",
        "  if do == \"YES\":\n",
        "   print(\"Ok, You eat it raw. Fingers crossed.\")\n",
        "   print(\"Food in your belly helps you see a TREE.\") \n",
        "\n",
        " \n",
        "  do = input(\":: \") \n",
        "  if do == \"TREE\":\n",
        "   print(\"It's a coconut tree! And you're thirsty!\") \n",
        "   print(\"Do you drink the coconut water? YES or NO.\")\n",
        "\n",
        " \n",
        "  do = input(\":: \")\n",
        "  if do == \"YES\":\n",
        "   print(\"Oh boy. Coconut water and raw crab don't mix.\")\n",
        "   print(\"You do not survive :(\") \n",
        "  elif do == \"NO\":\n",
        "   print(\"Good choice.\")\n",
        "   print(\"Look! It's a rescue plane! You made it! \\o/\") \n",
        "\n",
        "  elif do == \"NO\":\n",
        "   print(\"Well, there's nothing else left to eat.\")\n",
        "   print(\"You do not survive :(\") \n",
        "\n",
        "  elif do == \"RIGHT\": \n",
        "   print(\"No can do. That side is very slippery.\") \n",
        "   print(\"You fall very far into some weird cavern.\") \n",
        "   print(\"You do not survive :(\") \n",
        "\n",
        "  else: \n",
        "   print(\"You can only do actions shown in capital letters.\") \n",
        "   print(\"Try again!\")\n",
        "You are on a deserted island in a 2D world.\n",
        "Try to survive until rescue arrives!\n",
        "Available commands are in CAPITAL letters.\n",
        "Any other command exits the program\n",
        "First LOOK around...\n",
        ":: LOOK\n",
        "You are stuck in a sand ditch.\n",
        "Crawl out LEFT or RIGHT.\n",
        ":: LEFT\n",
        "You see a STARFISH and a CRAB on the sand.\n",
        "And you're hungry! Which do you eat?\n",
        ":: CRAB\n",
        "Raw crab should be fine, right? YES or NO.\n",
        ":: YES\n",
        "Ok, You eat it raw. Fingers crossed.\n",
        "Food in your belly helps you see a TREE.\n",
        ":: TREE\n",
        "It's a coconut tree! And you're thirsty!\n",
        "Do you drink the coconut water? YES or NO.\n",
        ":: YES\n",
        "Oh boy. Coconut water and raw crab don't mix.\n",
        "You do not survive :(\n"
      ],
      "execution_count": 1,
      "outputs": [
        {
          "output_type": "error",
          "ename": "SyntaxError",
          "evalue": "ignored",
          "traceback": [
            "\u001b[0;36m  File \u001b[0;32m\"<ipython-input-1-77cbef482bd2>\"\u001b[0;36m, line \u001b[0;32m56\u001b[0m\n\u001b[0;31m    You are on a deserted island in a 2D world.\u001b[0m\n\u001b[0m          ^\u001b[0m\n\u001b[0;31mSyntaxError\u001b[0m\u001b[0;31m:\u001b[0m invalid syntax\n"
          ]
        }
      ]
    },
    {
      "cell_type": "code",
      "metadata": {
        "id": "e9i-SsycJTVr",
        "colab_type": "code",
        "colab": {
          "base_uri": "https://localhost:8080/",
          "height": 87
        },
        "outputId": "cfacac07-8cdb-48e7-f38f-b714cd66ad45"
      },
      "source": [
        "import random\n",
        "my = int(input(\"請出拳 [0] 剪⼑ [1] ⽯頭 [2] 布\"))\n",
        "print(\"我出拳為\", my)\n",
        "computer = random.randint(0, 2)\n",
        "print(\"電腦出拳為\", computer)\n",
        "if my == 0:\n",
        " if computer == 0:\n",
        "  print('平⼿')\n",
        " elif computer == 1:\n",
        "  print('電腦獲勝')\n",
        " else:\n",
        "  print('玩家獲勝')\n",
        "elif my == 1:\n",
        " if computer == 0:\n",
        "  print('玩家獲勝')\n",
        " elif computer == 1:\n",
        "  print('平⼿')\n",
        " else:\n",
        "  print('電腦獲勝')\n",
        "else:\n",
        " if computer == 1:\n",
        "  print('電腦獲勝')\n",
        " elif computer == 2:\n",
        "  print('玩家獲勝')\n",
        " else:\n",
        "  print('平⼿')"
      ],
      "execution_count": 3,
      "outputs": [
        {
          "output_type": "stream",
          "text": [
            "請出拳 [0] 剪⼑ [1] ⽯頭 [2] 布1\n",
            "我出拳為 1\n",
            "電腦出拳為 1\n",
            "平⼿\n"
          ],
          "name": "stdout"
        }
      ]
    },
    {
      "cell_type": "code",
      "metadata": {
        "id": "kUEo58LRJXUM",
        "colab_type": "code",
        "colab": {
          "base_uri": "https://localhost:8080/",
          "height": 87
        },
        "outputId": "9b662586-7a9d-407a-f975-254291398dcb"
      },
      "source": [
        "import random\n",
        "my_choice = int(input(\"請出拳 [0] 蟲 [1] 雞 [2] 老虎 [3] 棒⼦\"))\n",
        "print(\"你出的拳:\", my_choice)\n",
        "com_choice = random.randint(0, 3)\n",
        "print(\"電腦出拳為\", com_choice)\n",
        "if my_choice == (com_choice + 1) % 4:\n",
        " print(\"我贏了\")\n",
        "elif com_choice == (my_choice + 1) % 4:\n",
        " print(\"電腦贏了\")\n",
        "else:\n",
        " print(\"平⼿\")"
      ],
      "execution_count": 4,
      "outputs": [
        {
          "output_type": "stream",
          "text": [
            "請出拳 [0] 蟲 [1] 雞 [2] 老虎 [3] 棒⼦1\n",
            "你出的拳: 1\n",
            "電腦出拳為 2\n",
            "電腦贏了\n"
          ],
          "name": "stdout"
        }
      ]
    },
    {
      "cell_type": "code",
      "metadata": {
        "id": "w4DPWkTLJqK-",
        "colab_type": "code",
        "colab": {}
      },
      "source": [
        ""
      ],
      "execution_count": 0,
      "outputs": []
    }
  ]
}