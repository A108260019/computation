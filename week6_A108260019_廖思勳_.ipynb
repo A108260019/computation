{
  "nbformat": 4,
  "nbformat_minor": 0,
  "metadata": {
    "colab": {
      "name": "week6_A108260019_廖思勳_.ipynb",
      "provenance": [],
      "include_colab_link": true
    },
    "kernelspec": {
      "name": "python3",
      "display_name": "Python 3"
    }
  },
  "cells": [
    {
      "cell_type": "markdown",
      "metadata": {
        "id": "view-in-github",
        "colab_type": "text"
      },
      "source": [
        "<a href=\"https://colab.research.google.com/github/s9611890/computation/blob/master/week6_A108260019_%E5%BB%96%E6%80%9D%E5%8B%B3_.ipynb\" target=\"_parent\"><img src=\"https://colab.research.google.com/assets/colab-badge.svg\" alt=\"Open In Colab\"/></a>"
      ]
    },
    {
      "cell_type": "code",
      "metadata": {
        "id": "Mj7sn0a33pbW",
        "colab_type": "code",
        "colab": {
          "base_uri": "https://localhost:8080/",
          "height": 105
        },
        "outputId": "a6efa6b4-ef91-45e2-b4a4-fbb35a03106b"
      },
      "source": [
        "第一次期中考成績=int(input('請輸入成績?'))\n",
        "第二次期中考成績=int(input('請輸入成績?'))\n",
        "期末考成績=int(input('請輸入成績?'))\n",
        "\n",
        "總分=第一次期中考成績+第二次期中考成績+期末考成績\n",
        "print('總成績為',總分)\n",
        "平均=總分/3\n",
        "print('平均為',平均)"
      ],
      "execution_count": 2,
      "outputs": [
        {
          "output_type": "stream",
          "text": [
            "請輸入成績?75\n",
            "請輸入成績?80\n",
            "請輸入成績?65\n",
            "總成績為 220\n",
            "平均為 73.33333333333333\n"
          ],
          "name": "stdout"
        }
      ]
    },
    {
      "cell_type": "code",
      "metadata": {
        "id": "S2ieKqu24F2Q",
        "colab_type": "code",
        "colab": {
          "base_uri": "https://localhost:8080/",
          "height": 70
        },
        "outputId": "73897d04-5c16-4571-cb5e-2df9705e675c"
      },
      "source": [
        "c=float(input(\"請輸入幾尺\"))\n",
        "c=float(input(\"請輸入幾吋\"))\n",
        "f=(5*12+8)*2.54\n",
        "print('轉換成',f)"
      ],
      "execution_count": 3,
      "outputs": [
        {
          "output_type": "stream",
          "text": [
            "請輸入幾尺5\n",
            "請輸入幾吋8\n",
            "轉換成 172.72\n"
          ],
          "name": "stdout"
        }
      ]
    },
    {
      "cell_type": "code",
      "metadata": {
        "id": "XLYjG4XP4KE1",
        "colab_type": "code",
        "colab": {
          "base_uri": "https://localhost:8080/",
          "height": 52
        },
        "outputId": "67773921-28a2-4320-82a7-90d19435fdc5"
      },
      "source": [
        "s=int(input('請輸入座號'))\n",
        "a=s/5\n",
        "組別=int(a+1)\n",
        "print('組別為',組別)"
      ],
      "execution_count": 4,
      "outputs": [
        {
          "output_type": "stream",
          "text": [
            "請輸入座號19\n",
            "組別為 4\n"
          ],
          "name": "stdout"
        }
      ]
    },
    {
      "cell_type": "code",
      "metadata": {
        "id": "9yCZ6Uxi4Yqd",
        "colab_type": "code",
        "colab": {
          "base_uri": "https://localhost:8080/",
          "height": 52
        },
        "outputId": "c3fe9685-9a2a-42d0-fafe-55fd2cc8902b"
      },
      "source": [
        "飲料數量=int(input('輸入購買飲料的罐數'))\n",
        "飲料一打=int(飲料數量/12)\n",
        "飲料個數=int(飲料數量-飲料一打*12)\n",
        "一打價格=飲料一打*200\n",
        "個數價格=飲料個數*20\n",
        "總價=一打價格+個數價格\n",
        "print('需花費',總價)"
      ],
      "execution_count": 5,
      "outputs": [
        {
          "output_type": "stream",
          "text": [
            "輸入購買飲料的罐數30\n",
            "需花費 520\n"
          ],
          "name": "stdout"
        }
      ]
    }
  ]
}