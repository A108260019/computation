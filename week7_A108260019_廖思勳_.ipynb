{
  "nbformat": 4,
  "nbformat_minor": 0,
  "metadata": {
    "colab": {
      "name": "week7_A108260019_廖思勳_.ipynb",
      "provenance": [],
      "include_colab_link": true
    },
    "kernelspec": {
      "name": "python3",
      "display_name": "Python 3"
    }
  },
  "cells": [
    {
      "cell_type": "markdown",
      "metadata": {
        "id": "view-in-github",
        "colab_type": "text"
      },
      "source": [
        "<a href=\"https://colab.research.google.com/github/s9611890/computation/blob/master/week7_A108260019_%E5%BB%96%E6%80%9D%E5%8B%B3_.ipynb\" target=\"_parent\"><img src=\"https://colab.research.google.com/assets/colab-badge.svg\" alt=\"Open In Colab\"/></a>"
      ]
    },
    {
      "cell_type": "code",
      "metadata": {
        "id": "hg8vQbTNkcnQ",
        "colab_type": "code",
        "colab": {
          "base_uri": "https://localhost:8080/",
          "height": 105
        },
        "outputId": "d4df0804-88e1-46f1-f4a9-54d2ac0cfcef"
      },
      "source": [
        "player = \"Ron Harper\"\n",
        "player_list = [\"Ron Harper\", \"Michael Jordan\", \"Scottie Pippen\", \"Dennis Rodman\", \"Luc Longley\"]\n",
        "player_tuple = tuple(player_list)\n",
        "player_dict = {\n",
        " \"PG\": \"Ron Harper\",\n",
        " \"SG\": \"Michael Jordan\",\n",
        " \"SF\": \"Scottie Pippen\",\n",
        " \"PF\": \"Dennis Rodman\",\n",
        " \"C\": \"Luc Longley\"\n",
        "}\n",
        "player_set = set(player_list)\n",
        "print(type(player))\n",
        "print(type(player_list))\n",
        "print(type(player_tuple))\n",
        "print(type(player_dict))\n",
        "print(type(player_set))"
      ],
      "execution_count": 1,
      "outputs": [
        {
          "output_type": "stream",
          "text": [
            "<class 'str'>\n",
            "<class 'list'>\n",
            "<class 'tuple'>\n",
            "<class 'dict'>\n",
            "<class 'set'>\n"
          ],
          "name": "stdout"
        }
      ]
    },
    {
      "cell_type": "code",
      "metadata": {
        "id": "hDr4mfLxkpbW",
        "colab_type": "code",
        "colab": {
          "base_uri": "https://localhost:8080/",
          "height": 158
        },
        "outputId": "52bd1461-ca72-4e93-f4a5-efb6d4b84651"
      },
      "source": [
        "s1 = '春眠不覺曉，處處聞啼鳥。'\n",
        "print(s1)\n",
        "s2 = \"夜來風雨聲，花落知多少。\"\n",
        "print(s2)\n",
        "s3 = '作者\"孟浩然\" 詩名\"春曉\"'\n",
        "print(s3)\n",
        "s4 = \"作者'孟浩然' 詩名'春曉'\"\n",
        "print(s4)\n",
        "s5 = ''' 春眠不覺曉，處處聞啼鳥。\n",
        " 夜來風雨聲，花落知多少。\n",
        " 作者\"孟浩然\" 詩名\"春曉\"\n",
        "'''\n",
        "print(s5)"
      ],
      "execution_count": 2,
      "outputs": [
        {
          "output_type": "stream",
          "text": [
            "春眠不覺曉，處處聞啼鳥。\n",
            "夜來風雨聲，花落知多少。\n",
            "作者\"孟浩然\" 詩名\"春曉\"\n",
            "作者'孟浩然' 詩名'春曉'\n",
            " 春眠不覺曉，處處聞啼鳥。\n",
            " 夜來風雨聲，花落知多少。\n",
            " 作者\"孟浩然\" 詩名\"春曉\"\n",
            "\n"
          ],
          "name": "stdout"
        }
      ]
    },
    {
      "cell_type": "code",
      "metadata": {
        "id": "dUZfrXLzkuBb",
        "colab_type": "code",
        "colab": {
          "base_uri": "https://localhost:8080/",
          "height": 105
        },
        "outputId": "c132911c-c072-44f3-e1b4-79355c3d300a"
      },
      "source": [
        "s1 =\"123\"\n",
        "s2 = \"456\"\n",
        "s3 = s1 + s2 \n",
        "print(s3)\n",
        "s4 = s1 * 2 \n",
        "print(s4)\n",
        "s5 = '春眠不覺曉，處處聞啼鳥。\\n\\\n",
        "夜來風雨聲，花落知多少。\\n\\\n",
        "\\t作者\"孟浩然\" 詩名\"春曉\"'\n",
        "print(s5)"
      ],
      "execution_count": 3,
      "outputs": [
        {
          "output_type": "stream",
          "text": [
            "123456\n",
            "123123\n",
            "春眠不覺曉，處處聞啼鳥。\n",
            "夜來風雨聲，花落知多少。\n",
            "\t作者\"孟浩然\" 詩名\"春曉\"\n"
          ],
          "name": "stdout"
        }
      ]
    },
    {
      "cell_type": "code",
      "metadata": {
        "id": "eZAmFHJgkxIC",
        "colab_type": "code",
        "colab": {
          "base_uri": "https://localhost:8080/",
          "height": 176
        },
        "outputId": "b2ab26fd-e183-448a-f40d-17c29bc66baf"
      },
      "source": [
        "s = '123456789'\n",
        "print(s[0])\n",
        "print(s[1])\n",
        "print(s[-1])\n",
        "print(s[-2])\n",
        "s = '0123456789'\n",
        "print('s=', s)\n",
        "print('s[0]=', s[0])\n",
        "print('s[1]=', s[1])\n",
        "print('s[-1]=', s[-1])\n",
        "print('s[-2]=', s[-2])"
      ],
      "execution_count": 4,
      "outputs": [
        {
          "output_type": "stream",
          "text": [
            "1\n",
            "2\n",
            "9\n",
            "8\n",
            "s= 0123456789\n",
            "s[0]= 0\n",
            "s[1]= 1\n",
            "s[-1]= 9\n",
            "s[-2]= 8\n"
          ],
          "name": "stdout"
        }
      ]
    },
    {
      "cell_type": "code",
      "metadata": {
        "id": "BInMh52Ckzyh",
        "colab_type": "code",
        "colab": {
          "base_uri": "https://localhost:8080/",
          "height": 212
        },
        "outputId": "008190d6-2117-4e11-8ee9-f05e0a574ed7"
      },
      "source": [
        "print('s=', s, 's[:]=', s[:]) \n",
        "print('s=', s, 's[5:]=', s[5:]) \n",
        "print('s=', s, 's[-2:]=', s[-2:])\n",
        "print('s=', s, 's[:5]=', s[:5]) \n",
        "print('s=', s, 's[:-2]=', s[:-2])\n",
        "print('s=', s, 's[7:9]=', s[7:9])\n",
        "print('s=', s, 's[-4:-1]=', s[-4:-1])\n",
        "print('s=', s, 's[5:-2]=', s[5:-2])\n",
        "print('s=', s, 's[2:10:2]=', s[2:10:2])\n",
        "print('s=', s, 's[::-1]=', s[::-1])\n",
        "print('s=', s, 's[-1::-1]=', s[-1::-1])"
      ],
      "execution_count": 5,
      "outputs": [
        {
          "output_type": "stream",
          "text": [
            "s= 0123456789 s[:]= 0123456789\n",
            "s= 0123456789 s[5:]= 56789\n",
            "s= 0123456789 s[-2:]= 89\n",
            "s= 0123456789 s[:5]= 01234\n",
            "s= 0123456789 s[:-2]= 01234567\n",
            "s= 0123456789 s[7:9]= 78\n",
            "s= 0123456789 s[-4:-1]= 678\n",
            "s= 0123456789 s[5:-2]= 567\n",
            "s= 0123456789 s[2:10:2]= 2468\n",
            "s= 0123456789 s[::-1]= 9876543210\n",
            "s= 0123456789 s[-1::-1]= 9876543210\n"
          ],
          "name": "stdout"
        }
      ]
    },
    {
      "cell_type": "code",
      "metadata": {
        "id": "MdrrgGYgk4Y6",
        "colab_type": "code",
        "colab": {
          "base_uri": "https://localhost:8080/",
          "height": 70
        },
        "outputId": "ecc11b43-c874-40da-fd11-ce1393310e2d"
      },
      "source": [
        "s = '春眠不覺曉，處處聞啼鳥，夜來風雨聲，花落知多少。'\n",
        "print(len(s))\n",
        "s1='春眠不覺曉，處處聞啼鳥，夜來風雨聲，花落知多少。'\n",
        "list1=s1.split('，') \n",
        "print(list1)\n",
        "list1 = ['春眠不覺曉','處處聞啼鳥','夜來風雨聲','花落知多少。']\n",
        "s2='，'.join(list1) \n",
        "print(s2)"
      ],
      "execution_count": 6,
      "outputs": [
        {
          "output_type": "stream",
          "text": [
            "24\n",
            "['春眠不覺曉', '處處聞啼鳥', '夜來風雨聲', '花落知多少。']\n",
            "春眠不覺曉，處處聞啼鳥，夜來風雨聲，花落知多少。\n"
          ],
          "name": "stdout"
        }
      ]
    },
    {
      "cell_type": "code",
      "metadata": {
        "id": "T_YWN7BAk4mq",
        "colab_type": "code",
        "colab": {
          "base_uri": "https://localhost:8080/",
          "height": 70
        },
        "outputId": "032340c2-8675-4c74-85d3-fb8c0ef6b1ba"
      },
      "source": [
        "s1='春眠不覺曉，處處聞啼鳥，夜來風雨聲，花落知多少。'\n",
        "print(s1.find('花落'))\n",
        "print(s1.count('處')) \n",
        "s3=s1.replace('春','冬') \n",
        "print(s3)"
      ],
      "execution_count": 7,
      "outputs": [
        {
          "output_type": "stream",
          "text": [
            "18\n",
            "2\n",
            "冬眠不覺曉，處處聞啼鳥，夜來風雨聲，花落知多少。\n"
          ],
          "name": "stdout"
        }
      ]
    },
    {
      "cell_type": "code",
      "metadata": {
        "id": "1Lw7XCbUk9p2",
        "colab_type": "code",
        "colab": {
          "base_uri": "https://localhost:8080/",
          "height": 105
        },
        "outputId": "24df6dee-6436-4599-b2bc-e0fac3382da5"
      },
      "source": [
        "s1='An apple a day.'\n",
        "print(s1.capitalize())\n",
        "print(s1.title())\n",
        "print(s1.swapcase())\n",
        "print(s1.upper())\n",
        "print(s1.lower())"
      ],
      "execution_count": 8,
      "outputs": [
        {
          "output_type": "stream",
          "text": [
            "An apple a day.\n",
            "An Apple A Day.\n",
            "aN APPLE A DAY.\n",
            "AN APPLE A DAY.\n",
            "an apple a day.\n"
          ],
          "name": "stdout"
        }
      ]
    },
    {
      "cell_type": "code",
      "metadata": {
        "id": "Ir8Hsw2_lDRO",
        "colab_type": "code",
        "colab": {
          "base_uri": "https://localhost:8080/",
          "height": 176
        },
        "outputId": "592a6f23-71ad-443b-96a3-c6a927135c4d"
      },
      "source": [
        "s1='春眠不覺曉，處處聞啼鳥，夜來風雨聲，花落知多少。'\n",
        "print(s1.startswith('春眠'))\n",
        "print(s1.endswith('多少。'))\n",
        "s1='春眠不覺曉'\n",
        "print(s1.center(10))\n",
        "print(s1.rjust(10))\n",
        "print(s1.ljust(10))\n",
        "s1='123'\n",
        "print(s1.zfill(5))\n",
        "s1=' Hello,Mary. '\n",
        "print(s1.strip())\n",
        "print(s1.lstrip(' H'))\n",
        "print(s1.rstrip(' .'))"
      ],
      "execution_count": 9,
      "outputs": [
        {
          "output_type": "stream",
          "text": [
            "True\n",
            "True\n",
            "  春眠不覺曉   \n",
            "     春眠不覺曉\n",
            "春眠不覺曉     \n",
            "00123\n",
            "Hello,Mary.\n",
            "ello,Mary. \n",
            " Hello,Mary\n"
          ],
          "name": "stdout"
        }
      ]
    },
    {
      "cell_type": "code",
      "metadata": {
        "id": "eU6WbqG8lGmG",
        "colab_type": "code",
        "colab": {
          "base_uri": "https://localhost:8080/",
          "height": 123
        },
        "outputId": "db88a048-f6b5-4b1b-fe7f-bb9be6d1304a"
      },
      "source": [
        "t1 = ()\n",
        "print(t1)\n",
        "t2 = 1, 2 ,3 \n",
        "print(t2)\n",
        "t3 = (1, 2, 3) \n",
        "print(t3)\n",
        "list1=[1,2,3,4] \n",
        "t4 = tuple(list1)\n",
        "print(t4)\n",
        "t4 = (1,2,3,4) \n",
        "t5 = (t4,5,6)\n",
        "print(t5)\n",
        "t6 = ('z', )\n",
        "print(t6)"
      ],
      "execution_count": 10,
      "outputs": [
        {
          "output_type": "stream",
          "text": [
            "()\n",
            "(1, 2, 3)\n",
            "(1, 2, 3)\n",
            "(1, 2, 3, 4)\n",
            "((1, 2, 3, 4), 5, 6)\n",
            "('z',)\n"
          ],
          "name": "stdout"
        }
      ]
    },
    {
      "cell_type": "code",
      "metadata": {
        "id": "rGJdlZXQlQPi",
        "colab_type": "code",
        "colab": {
          "base_uri": "https://localhost:8080/",
          "height": 70
        },
        "outputId": "1d0f41b7-1fee-4b63-afa1-1d2eb1db3583"
      },
      "source": [
        "t3 = (1, 2, 3)\n",
        "print(t3[0]) \n",
        "t4 = (1,2,3,4)\n",
        "t5 = (t4,5,6)\n",
        "print(len(t5))\n",
        "print(t5[0][0])"
      ],
      "execution_count": 12,
      "outputs": [
        {
          "output_type": "stream",
          "text": [
            "1\n",
            "3\n",
            "1\n"
          ],
          "name": "stdout"
        }
      ]
    },
    {
      "cell_type": "code",
      "metadata": {
        "id": "0h2Sok59lRbk",
        "colab_type": "code",
        "colab": {
          "base_uri": "https://localhost:8080/",
          "height": 70
        },
        "outputId": "9d2c6734-b972-4ef5-ec74-50f58a6b9498"
      },
      "source": [
        "t3 = (1, 2, 3)\n",
        "a, b, c = t3\n",
        "print('a =', a, ',b =', b, ',c =', c)\n",
        "a = 10\n",
        "b = 20\n",
        "print('交換前','a =', a, ',b =', b)\n",
        "a, b = b, a\n",
        "print('交換後','a =', a, ',b =', b)"
      ],
      "execution_count": 13,
      "outputs": [
        {
          "output_type": "stream",
          "text": [
            "a = 1 ,b = 2 ,c = 3\n",
            "交換前 a = 10 ,b = 20\n",
            "交換後 a = 20 ,b = 10\n"
          ],
          "name": "stdout"
        }
      ]
    },
    {
      "cell_type": "code",
      "metadata": {
        "id": "0Q6einrelUA8",
        "colab_type": "code",
        "colab": {
          "base_uri": "https://localhost:8080/",
          "height": 123
        },
        "outputId": "2ebafda4-72c1-41b5-b234-6008f921f99a"
      },
      "source": [
        "shoplist = ['牛奶', '蛋', '咖啡豆', '西瓜', '鳳梨']\n",
        "print('購物清單shoplist為')\n",
        "print(shoplist)\n",
        "listm = [1, 2.0, 'Python']\n",
        "print(\"串列可以包含各種資料型別的元素\")\n",
        "print(listm)\n",
        "list1 = list('python')\n",
        "print(list1) \n",
        "tuple2 = ('a', 'b', 1, 2)\n",
        "list2 = list(tuple2)\n",
        "print(list2)"
      ],
      "execution_count": 14,
      "outputs": [
        {
          "output_type": "stream",
          "text": [
            "購物清單shoplist為\n",
            "['牛奶', '蛋', '咖啡豆', '西瓜', '鳳梨']\n",
            "串列可以包含各種資料型別的元素\n",
            "[1, 2.0, 'Python']\n",
            "['p', 'y', 't', 'h', 'o', 'n']\n",
            "['a', 'b', 1, 2]\n"
          ],
          "name": "stdout"
        }
      ]
    },
    {
      "cell_type": "code",
      "metadata": {
        "id": "sBU-LG2LlWPw",
        "colab_type": "code",
        "colab": {
          "base_uri": "https://localhost:8080/",
          "height": 52
        },
        "outputId": "b4d851b0-9ae2-44a8-802b-d478523f808d"
      },
      "source": [
        "shoplist = ['牛奶', '蛋', '咖啡豆', '西瓜', '鳳梨']\n",
        "print('購物清單shoplist的長度為', len(shoplist))\n",
        "\n",
        "shoplist1 = ['牛奶', '蛋', '咖啡豆']\n",
        "shoplist2 = ['西瓜', '鳳梨']\n",
        "shoplist_all = shoplist1 + shoplist2 \n",
        "print(shoplist_all)"
      ],
      "execution_count": 15,
      "outputs": [
        {
          "output_type": "stream",
          "text": [
            "購物清單shoplist的長度為 5\n",
            "['牛奶', '蛋', '咖啡豆', '西瓜', '鳳梨']\n"
          ],
          "name": "stdout"
        }
      ]
    },
    {
      "cell_type": "code",
      "metadata": {
        "id": "O4-MJ9CxlaTd",
        "colab_type": "code",
        "colab": {
          "base_uri": "https://localhost:8080/",
          "height": 354
        },
        "outputId": "4a10f511-d58d-4720-ae6d-2cc3c699e452"
      },
      "source": [
        "shoplist = ['牛奶', '蛋', '咖啡豆', '西瓜', '鳳梨']\n",
        "print('顯示shoplist[0]為',shoplist[0])\n",
        "index=shoplist.index('咖啡豆')\n",
        "print(\"執行 index=shoplist.index('咖啡豆') 後\")\n",
        "print('index=', index)\n",
        "shoplist[1] = '皮蛋'\n",
        "print(\"執行 shoplist[1] = '皮蛋' 後\")\n",
        "print(shoplist)\n",
        "a = list('abcdefghijk')\n",
        "print('a[:]為', a[:])\n",
        "print('a[:5]為', a[:5])\n",
        "print('a[5:]為', a[5:])\n",
        "print('a[:-5]為', a[:-5])\n",
        "print('a[-5:]為', a[-5:])\n",
        "print('a[0:4]為', a[0:4])\n",
        "print('a[-5:-3]為', a[-5:-3])\n",
        "print('a[1:10:3]為', a[1:10:3])\n",
        "print('a[-1:-4:-1]為', a[-1:-4:-1])\n",
        "print('a[::-1]為', a[::-1])\n",
        "shoplist = ['milk', 'egg', 'coffee', 'watermelon']\n",
        "for item in shoplist:\n",
        " print(item)"
      ],
      "execution_count": 16,
      "outputs": [
        {
          "output_type": "stream",
          "text": [
            "顯示shoplist[0]為 牛奶\n",
            "執行 index=shoplist.index('咖啡豆') 後\n",
            "index= 2\n",
            "執行 shoplist[1] = '皮蛋' 後\n",
            "['牛奶', '皮蛋', '咖啡豆', '西瓜', '鳳梨']\n",
            "a[:]為 ['a', 'b', 'c', 'd', 'e', 'f', 'g', 'h', 'i', 'j', 'k']\n",
            "a[:5]為 ['a', 'b', 'c', 'd', 'e']\n",
            "a[5:]為 ['f', 'g', 'h', 'i', 'j', 'k']\n",
            "a[:-5]為 ['a', 'b', 'c', 'd', 'e', 'f']\n",
            "a[-5:]為 ['g', 'h', 'i', 'j', 'k']\n",
            "a[0:4]為 ['a', 'b', 'c', 'd']\n",
            "a[-5:-3]為 ['g', 'h']\n",
            "a[1:10:3]為 ['b', 'e', 'h']\n",
            "a[-1:-4:-1]為 ['k', 'j', 'i']\n",
            "a[::-1]為 ['k', 'j', 'i', 'h', 'g', 'f', 'e', 'd', 'c', 'b', 'a']\n",
            "milk\n",
            "egg\n",
            "coffee\n",
            "watermelon\n"
          ],
          "name": "stdout"
        }
      ]
    },
    {
      "cell_type": "code",
      "metadata": {
        "id": "Lh9AdjoelbM4",
        "colab_type": "code",
        "colab": {
          "base_uri": "https://localhost:8080/",
          "height": 301
        },
        "outputId": "671a2f8c-3a11-4a20-a393-c7c0fc8a6624"
      },
      "source": [
        "shoplist = ['牛奶', '蛋', '咖啡豆', '西瓜', '鳳梨']\n",
        "shoplist.append('麵包')\n",
        "print(\"執行 shoplist.append('麵包')後\")\n",
        "print(shoplist)\n",
        "shoplist.insert(4, '蘋果')\n",
        "print(\"執行 shoplist.insert(4, '蘋果') 後\")\n",
        "print(shoplist)\n",
        "shoplist.remove('蛋') \n",
        "print(\"執行 shoplist.remove('蛋') 後\")\n",
        "print(shoplist)\n",
        "del shoplist[0] \n",
        "print(\"執行 del shoplist[0] 後\")\n",
        "print(shoplist)\n",
        "shoplist.pop(0)\n",
        "print(\"執行 shoplist.pop(0) 後\")\n",
        "print(shoplist)\n",
        "shoplist.pop() \n",
        "print(\"執行 shoplist.pop() 後\")\n",
        "print(shoplist)\n",
        "shoplist.pop(-1)\n",
        "print(\"執行 shoplist.pop(-1) 後\")\n",
        "print(shoplist)\n",
        "shoplist = ['milk', 'egg', 'coffee', 'watermelon']\n",
        "shoplist.sort() \n",
        "print(\"執行 shoplist.sort() 後\")\n",
        "print(shoplist)"
      ],
      "execution_count": 17,
      "outputs": [
        {
          "output_type": "stream",
          "text": [
            "執行 shoplist.append('麵包')後\n",
            "['牛奶', '蛋', '咖啡豆', '西瓜', '鳳梨', '麵包']\n",
            "執行 shoplist.insert(4, '蘋果') 後\n",
            "['牛奶', '蛋', '咖啡豆', '西瓜', '蘋果', '鳳梨', '麵包']\n",
            "執行 shoplist.remove('蛋') 後\n",
            "['牛奶', '咖啡豆', '西瓜', '蘋果', '鳳梨', '麵包']\n",
            "執行 del shoplist[0] 後\n",
            "['咖啡豆', '西瓜', '蘋果', '鳳梨', '麵包']\n",
            "執行 shoplist.pop(0) 後\n",
            "['西瓜', '蘋果', '鳳梨', '麵包']\n",
            "執行 shoplist.pop() 後\n",
            "['西瓜', '蘋果', '鳳梨']\n",
            "執行 shoplist.pop(-1) 後\n",
            "['西瓜', '蘋果']\n",
            "執行 shoplist.sort() 後\n",
            "['coffee', 'egg', 'milk', 'watermelon']\n"
          ],
          "name": "stdout"
        }
      ]
    },
    {
      "cell_type": "code",
      "metadata": {
        "id": "IFedqWcwledG",
        "colab_type": "code",
        "colab": {
          "base_uri": "https://localhost:8080/",
          "height": 194
        },
        "outputId": "746fd054-2caa-40b5-e71c-961a1121eab2"
      },
      "source": [
        "list1 = [1, 2, 3, 4]\n",
        "list2 = list1\n",
        "print('list1=', list1)\n",
        "print('list2=', list2)\n",
        "list1[2]=19\n",
        "print('list1=', list1)\n",
        "print('list2=', list2)\n",
        "list2[2]=18\n",
        "print('list1=', list1)\n",
        "print('list2=', list2)\n",
        "list1 = [1, 2, 3, 4]\n",
        "list3 = list1[:]\n",
        "list3[2] = 19\n",
        "print('list1=', list1)\n",
        "print('list3=', list3)\n",
        "list4 = list1.copy()\n",
        "list4[2] = 19\n",
        "print('list1=', list1)\n",
        "print('list4=', list4)"
      ],
      "execution_count": 18,
      "outputs": [
        {
          "output_type": "stream",
          "text": [
            "list1= [1, 2, 3, 4]\n",
            "list2= [1, 2, 3, 4]\n",
            "list1= [1, 2, 19, 4]\n",
            "list2= [1, 2, 19, 4]\n",
            "list1= [1, 2, 18, 4]\n",
            "list2= [1, 2, 18, 4]\n",
            "list1= [1, 2, 3, 4]\n",
            "list3= [1, 2, 19, 4]\n",
            "list1= [1, 2, 3, 4]\n",
            "list4= [1, 2, 19, 4]\n"
          ],
          "name": "stdout"
        }
      ]
    },
    {
      "cell_type": "code",
      "metadata": {
        "id": "LqAEB0iTlhvX",
        "colab_type": "code",
        "colab": {
          "base_uri": "https://localhost:8080/",
          "height": 496
        },
        "outputId": "8913b615-f6e3-4126-89ac-4c63eed7f4be"
      },
      "source": [
        "season = \"1995-1996\"\n",
        "team = \"Chicago Bulls\"\n",
        "coach = \"Phil Jackson\"\n",
        "won_championship = True\n",
        "\n",
        "records = [72, 10]\n",
        "starting_lineup = [\"Ron Harper\", \"Michael Jordan\", \"Scottie Pippen\", \"Dennis Rodman\",\n",
        "\"Luc Longley\"]\n",
        "\n",
        "best_chicago_bulls = [season, team, coach, won_championship, records, starting_lineup]\n",
        "print(best_chicago_bulls)\n",
        "print(type(best_chicago_bulls))\n",
        "\n",
        "print(len(best_chicago_bulls))\n",
        "\n",
        "print(best_chicago_bulls[0])\n",
        "print(best_chicago_bulls[1])\n",
        "print(best_chicago_bulls[2])\n",
        "print(best_chicago_bulls[3])\n",
        "print(best_chicago_bulls[4])\n",
        "print(best_chicago_bulls[5])\n",
        "\n",
        "print(best_chicago_bulls[-1])\n",
        "print(best_chicago_bulls[-2])\n",
        "print(best_chicago_bulls[-3])\n",
        "print(best_chicago_bulls[-4])\n",
        "print(best_chicago_bulls[-5])\n",
        "print(best_chicago_bulls[-6])\n",
        "\n",
        "print(best_chicago_bulls[0:3])\n",
        "print(best_chicago_bulls[::2])\n",
        "print(best_chicago_bulls[::-1])\n",
        "\n",
        "best_chicago_bulls[5].append(\"Toni Kukoc\")\n",
        "print(best_chicago_bulls[5])\n",
        "\n",
        "best_chicago_bulls[5].insert(6, \"Toni Kukoc\")\n",
        "print(best_chicago_bulls[5])\n",
        "\n",
        "center = best_chicago_bulls[5].pop()\n",
        "print(center)\n",
        "print(best_chicago_bulls[5])\n",
        "\n",
        "best_chicago_bulls = [season, team, coach, won_championship, records, starting_lineup]\n",
        "del best_chicago_bulls[5][0]\n",
        "print(best_chicago_bulls[5])\n",
        "\n",
        "best_chicago_bulls = [season, team, coach, won_championship, records, starting_lineup]\n",
        "\n",
        "best_chicago_bulls[4].sort()\n",
        "print(best_chicago_bulls[4])\n",
        "\n",
        "best_chicago_bulls[4].sort(reverse=True)\n",
        "print(best_chicago_bulls[4])\n",
        "\n",
        "best_chicago_bulls[5].sort()\n",
        "print(best_chicago_bulls[5])\n",
        "\n",
        "best_chicago_bulls[5].sort(reverse=True)\n",
        "print(best_chicago_bulls[5])"
      ],
      "execution_count": 19,
      "outputs": [
        {
          "output_type": "stream",
          "text": [
            "['1995-1996', 'Chicago Bulls', 'Phil Jackson', True, [72, 10], ['Ron Harper', 'Michael Jordan', 'Scottie Pippen', 'Dennis Rodman', 'Luc Longley']]\n",
            "<class 'list'>\n",
            "6\n",
            "1995-1996\n",
            "Chicago Bulls\n",
            "Phil Jackson\n",
            "True\n",
            "[72, 10]\n",
            "['Ron Harper', 'Michael Jordan', 'Scottie Pippen', 'Dennis Rodman', 'Luc Longley']\n",
            "['Ron Harper', 'Michael Jordan', 'Scottie Pippen', 'Dennis Rodman', 'Luc Longley']\n",
            "[72, 10]\n",
            "True\n",
            "Phil Jackson\n",
            "Chicago Bulls\n",
            "1995-1996\n",
            "['1995-1996', 'Chicago Bulls', 'Phil Jackson']\n",
            "['1995-1996', 'Phil Jackson', [72, 10]]\n",
            "[['Ron Harper', 'Michael Jordan', 'Scottie Pippen', 'Dennis Rodman', 'Luc Longley'], [72, 10], True, 'Phil Jackson', 'Chicago Bulls', '1995-1996']\n",
            "['Ron Harper', 'Michael Jordan', 'Scottie Pippen', 'Dennis Rodman', 'Luc Longley', 'Toni Kukoc']\n",
            "['Ron Harper', 'Michael Jordan', 'Scottie Pippen', 'Dennis Rodman', 'Luc Longley', 'Toni Kukoc', 'Toni Kukoc']\n",
            "Toni Kukoc\n",
            "['Ron Harper', 'Michael Jordan', 'Scottie Pippen', 'Dennis Rodman', 'Luc Longley', 'Toni Kukoc']\n",
            "['Michael Jordan', 'Scottie Pippen', 'Dennis Rodman', 'Luc Longley', 'Toni Kukoc']\n",
            "[10, 72]\n",
            "[72, 10]\n",
            "['Dennis Rodman', 'Luc Longley', 'Michael Jordan', 'Scottie Pippen', 'Toni Kukoc']\n",
            "['Toni Kukoc', 'Scottie Pippen', 'Michael Jordan', 'Luc Longley', 'Dennis Rodman']\n"
          ],
          "name": "stdout"
        }
      ]
    },
    {
      "cell_type": "code",
      "metadata": {
        "id": "bvwG8Y91llht",
        "colab_type": "code",
        "colab": {
          "base_uri": "https://localhost:8080/",
          "height": 123
        },
        "outputId": "d7eccd16-b4b3-4292-cf68-6ad0aaf7d6ab"
      },
      "source": [
        "dict1={}\n",
        "print(dict1)\n",
        "lang={'早安':'Good Morning', '你好':'Hello'}\n",
        "print(lang)\n",
        "\n",
        "a=[['早安','Good Morning'],['你好','Hello']] \n",
        "dict1 = dict(a)\n",
        "print(dict1)\n",
        "b=[('早安','Good Morning'),('你好','Hello')] \n",
        "dict2 = dict(b)\n",
        "print(dict2)\n",
        "c=(['早安','Good Morning'],['你好','Hello']) \n",
        "dict3 = dict(c)\n",
        "print(dict3)\n",
        "d=(('早安','Good Morning'),('你好','Hello')) \n",
        "dict4 = dict(d)\n",
        "print(dict4)"
      ],
      "execution_count": 20,
      "outputs": [
        {
          "output_type": "stream",
          "text": [
            "{}\n",
            "{'早安': 'Good Morning', '你好': 'Hello'}\n",
            "{'早安': 'Good Morning', '你好': 'Hello'}\n",
            "{'早安': 'Good Morning', '你好': 'Hello'}\n",
            "{'早安': 'Good Morning', '你好': 'Hello'}\n",
            "{'早安': 'Good Morning', '你好': 'Hello'}\n"
          ],
          "name": "stdout"
        }
      ]
    },
    {
      "cell_type": "code",
      "metadata": {
        "id": "wPKJ98eOloMI",
        "colab_type": "code",
        "colab": {
          "base_uri": "https://localhost:8080/",
          "height": 87
        },
        "outputId": "8aca8688-85c6-469c-a403-fbc431c03dd8"
      },
      "source": [
        "lang={'早安':'Good Morning', '你好':'Hello'}\n",
        "print('「你好」的英文為',lang['你好'])\n",
        "print('「你好」的英文為',lang.get('你好'))\n",
        "print('「你好嗎」的英文為',lang.get('你好嗎'))\n",
        "print('「你好嗎」的英文為',lang.get('你好嗎','不在字典內'))"
      ],
      "execution_count": 21,
      "outputs": [
        {
          "output_type": "stream",
          "text": [
            "「你好」的英文為 Hello\n",
            "「你好」的英文為 Hello\n",
            "「你好嗎」的英文為 None\n",
            "「你好嗎」的英文為 不在字典內\n"
          ],
          "name": "stdout"
        }
      ]
    },
    {
      "cell_type": "code",
      "metadata": {
        "id": "IVXc89ZXlqY4",
        "colab_type": "code",
        "colab": {
          "base_uri": "https://localhost:8080/",
          "height": 87
        },
        "outputId": "42af82ad-225a-478f-ee47-d6bfca9e1523"
      },
      "source": [
        "lang={'早安':'Good Morning', '你好':'Hello'}\n",
        "lang['你好']='Hi'\n",
        "print(lang)\n",
        "lang['學生']='Student'\n",
        "print(lang)\n",
        "del lang['早安']\n",
        "print(lang)\n",
        "lang.clear()\n",
        "print(lang)"
      ],
      "execution_count": 22,
      "outputs": [
        {
          "output_type": "stream",
          "text": [
            "{'早安': 'Good Morning', '你好': 'Hi'}\n",
            "{'早安': 'Good Morning', '你好': 'Hi', '學生': 'Student'}\n",
            "{'你好': 'Hi', '學生': 'Student'}\n",
            "{}\n"
          ],
          "name": "stdout"
        }
      ]
    },
    {
      "cell_type": "code",
      "metadata": {
        "id": "BBotrnV9ltSk",
        "colab_type": "code",
        "colab": {
          "base_uri": "https://localhost:8080/",
          "height": 230
        },
        "outputId": "23e3f023-f94e-46c6-bdce-fdfba82c2a37"
      },
      "source": [
        "lang1={'你好':'Hello'}\n",
        "lang2={'學生':'Student'}\n",
        "lang1.update(lang2)\n",
        "print(lang1)\n",
        "lang1={'早安':'Good Morning','你好':'Hello'}\n",
        "lang2={'你好':'Hi'}\n",
        "lang1.update(lang2)\n",
        "print(lang1)\n",
        "lang1={'早安':'Good Morning','你好':'Hello'}\n",
        "lang2 = lang1\n",
        "lang2['你好']='Hi'\n",
        "print('lang1為', lang1)\n",
        "print('lang2為', lang2)\n",
        "lang3 = lang1.copy()\n",
        "lang3['你好']='Hi'\n",
        "print('lang1為', lang1)\n",
        "print('lang3為', lang3)\n",
        "lang={'早安':'Good Morning','你好':'Hello'}\n",
        "for ch, en in lang.items():\n",
        " print('中文為', ch, '英文為', en)\n",
        "for ch in lang.keys():\n",
        " print(ch,lang[ch])\n",
        "for en in lang.values():\n",
        " print(en)"
      ],
      "execution_count": 23,
      "outputs": [
        {
          "output_type": "stream",
          "text": [
            "{'你好': 'Hello', '學生': 'Student'}\n",
            "{'早安': 'Good Morning', '你好': 'Hi'}\n",
            "lang1為 {'早安': 'Good Morning', '你好': 'Hi'}\n",
            "lang2為 {'早安': 'Good Morning', '你好': 'Hi'}\n",
            "lang1為 {'早安': 'Good Morning', '你好': 'Hi'}\n",
            "lang3為 {'早安': 'Good Morning', '你好': 'Hi'}\n",
            "中文為 早安 英文為 Good Morning\n",
            "中文為 你好 英文為 Hello\n",
            "早安 Good Morning\n",
            "你好 Hello\n",
            "Good Morning\n",
            "Hello\n"
          ],
          "name": "stdout"
        }
      ]
    },
    {
      "cell_type": "code",
      "metadata": {
        "id": "FbpFunj4lvdw",
        "colab_type": "code",
        "colab": {
          "base_uri": "https://localhost:8080/",
          "height": 158
        },
        "outputId": "516190ea-b28e-4bc3-a735-f47677e5e7ae"
      },
      "source": [
        "s = {1,2,3,4}\n",
        "print(s)\n",
        "s = set(('a',1,'b',2))\n",
        "print(s) \n",
        "s = set(['apple', 'banana', 'apple'])\n",
        "print(s) \n",
        "s = set({'早安':'Good Morning', '你好':'Hello'})\n",
        "print(s)\n",
        "s = set('racecar')\n",
        "print(s) \n",
        "s = set('tiger')\n",
        "print(s)\n",
        "s.add('z')\n",
        "print(s)\n",
        "s.remove('t')\n",
        "print(s)\n"
      ],
      "execution_count": 24,
      "outputs": [
        {
          "output_type": "stream",
          "text": [
            "{1, 2, 3, 4}\n",
            "{'a', 1, 'b', 2}\n",
            "{'apple', 'banana'}\n",
            "{'你好', '早安'}\n",
            "{'a', 'c', 'r', 'e'}\n",
            "{'g', 't', 'e', 'i', 'r'}\n",
            "{'g', 't', 'e', 'i', 'z', 'r'}\n",
            "{'g', 'e', 'i', 'z', 'r'}\n"
          ],
          "name": "stdout"
        }
      ]
    },
    {
      "cell_type": "code",
      "metadata": {
        "id": "6MtBUR2Glzgc",
        "colab_type": "code",
        "colab": {
          "base_uri": "https://localhost:8080/",
          "height": 194
        },
        "outputId": "9c08ce7e-2d9e-4b26-f2b1-c84ea28fb2fb"
      },
      "source": [
        "a = set('tiger')\n",
        "b = set('bear')\n",
        "print(a)\n",
        "print(b)\n",
        "print(a | b) \n",
        "print(a & b) \n",
        "print(a - b)\n",
        "print(a ^ b) \n",
        "a = set('tiger')\n",
        "b = set('tigers')\n",
        "print(a<=b)\n",
        "a = set('tiger')\n",
        "b = set('tigers')\n",
        "print(a<b)\n",
        "a = set('tiger')\n",
        "b = set('tigers')\n",
        "print(a>=b)\n",
        "a = set('tiger')\n",
        "b = set('tigers')\n",
        "print(a>b)"
      ],
      "execution_count": 26,
      "outputs": [
        {
          "output_type": "stream",
          "text": [
            "{'g', 't', 'e', 'i', 'r'}\n",
            "{'a', 'r', 'b', 'e'}\n",
            "{'i', 'r', 'g', 't', 'b', 'a', 'e'}\n",
            "{'r', 'e'}\n",
            "{'g', 't', 'i'}\n",
            "{'a', 'g', 't', 'i', 'b'}\n",
            "True\n",
            "True\n",
            "False\n",
            "False\n"
          ],
          "name": "stdout"
        }
      ]
    }
  ]
}