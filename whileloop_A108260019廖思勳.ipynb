{
  "nbformat": 4,
  "nbformat_minor": 0,
  "metadata": {
    "colab": {
      "name": "whileloop_A108260019廖思勳.ipynb",
      "provenance": [],
      "include_colab_link": true
    },
    "kernelspec": {
      "name": "python3",
      "display_name": "Python 3"
    }
  },
  "cells": [
    {
      "cell_type": "markdown",
      "metadata": {
        "id": "view-in-github",
        "colab_type": "text"
      },
      "source": [
        "<a href=\"https://colab.research.google.com/github/s9611890/computation/blob/master/whileloop_A108260019%E5%BB%96%E6%80%9D%E5%8B%B3.ipynb\" target=\"_parent\"><img src=\"https://colab.research.google.com/assets/colab-badge.svg\" alt=\"Open In Colab\"/></a>"
      ]
    },
    {
      "cell_type": "code",
      "metadata": {
        "id": "bJSc3Cm5pTRT",
        "colab_type": "code",
        "colab": {
          "base_uri": "https://localhost:8080/",
          "height": 153
        },
        "outputId": "3aa98ead-88f5-491c-8e9b-25ac1368d0c8"
      },
      "source": [
        "n=1\n",
        "while n<5:\n",
        "  print(\"變數n是\",n)\n",
        "  n=n+1\n",
        "  print(\"Finished\")"
      ],
      "execution_count": 1,
      "outputs": [
        {
          "output_type": "stream",
          "text": [
            "變數n是 1\n",
            "Finished\n",
            "變數n是 2\n",
            "Finished\n",
            "變數n是 3\n",
            "Finished\n",
            "變數n是 4\n",
            "Finished\n"
          ],
          "name": "stdout"
        }
      ]
    },
    {
      "cell_type": "code",
      "metadata": {
        "colab_type": "code",
        "id": "ULEwv4-SqBLE",
        "colab": {
          "base_uri": "https://localhost:8080/",
          "height": 187
        },
        "outputId": "73fd55bb-978a-45f2-bd50-877522175c46"
      },
      "source": [
        "x=0\n",
        "while x<10:\n",
        "  print(\"hello\")\n",
        "  x=x+1"
      ],
      "execution_count": 2,
      "outputs": [
        {
          "output_type": "stream",
          "text": [
            "hello\n",
            "hello\n",
            "hello\n",
            "hello\n",
            "hello\n",
            "hello\n",
            "hello\n",
            "hello\n",
            "hello\n",
            "hello\n"
          ],
          "name": "stdout"
        }
      ]
    },
    {
      "cell_type": "code",
      "metadata": {
        "id": "Au2xfsTwqOoz",
        "colab_type": "code",
        "colab": {
          "base_uri": "https://localhost:8080/",
          "height": 187
        },
        "outputId": "5d72cca1-c7b4-4915-d87d-b718635ee41c"
      },
      "source": [
        "times=0\n",
        "while times<10:\n",
        "  print('這是第',times,'次的hello')\n",
        "  times=times+1"
      ],
      "execution_count": 3,
      "outputs": [
        {
          "output_type": "stream",
          "text": [
            "這是第 0 次的hello\n",
            "這是第 1 次的hello\n",
            "這是第 2 次的hello\n",
            "這是第 3 次的hello\n",
            "這是第 4 次的hello\n",
            "這是第 5 次的hello\n",
            "這是第 6 次的hello\n",
            "這是第 7 次的hello\n",
            "這是第 8 次的hello\n",
            "這是第 9 次的hello\n"
          ],
          "name": "stdout"
        }
      ]
    },
    {
      "cell_type": "code",
      "metadata": {
        "id": "J1fMex2QqZc9",
        "colab_type": "code",
        "colab": {
          "base_uri": "https://localhost:8080/",
          "height": 34
        },
        "outputId": "5f4f8161-5aa8-4ee8-914f-da325f6a7b01"
      },
      "source": [
        "x=0\n",
        "result=0\n",
        "while x<10:\n",
        "  x=x+1\n",
        "  result=result+x\n",
        "print(\"答案是:\",result)"
      ],
      "execution_count": 4,
      "outputs": [
        {
          "output_type": "stream",
          "text": [
            "答案是: 55\n"
          ],
          "name": "stdout"
        }
      ]
    },
    {
      "cell_type": "code",
      "metadata": {
        "id": "qjv6uH7cqZhm",
        "colab_type": "code",
        "colab": {
          "base_uri": "https://localhost:8080/",
          "height": 34
        },
        "outputId": "11d88e0c-8833-48bc-851a-be28315cbd8a"
      },
      "source": [
        "result=0\n",
        "while result<=50:\n",
        "  x=x+1\n",
        "  result=result+x\n",
        "print(\"最後加的x是\",x)"
      ],
      "execution_count": 5,
      "outputs": [
        {
          "output_type": "stream",
          "text": [
            "最後加的x是 15\n"
          ],
          "name": "stdout"
        }
      ]
    },
    {
      "cell_type": "code",
      "metadata": {
        "id": "SwFb44dbqhOS",
        "colab_type": "code",
        "colab": {
          "base_uri": "https://localhost:8080/",
          "height": 34
        },
        "outputId": "06c28ef6-b3d9-41b0-9597-4678806ddba5"
      },
      "source": [
        "sum=0\n",
        "x=1\n",
        "while x<11:\n",
        "  sum=sum+x\n",
        "  x=x+2\n",
        "print(\"1+3+5+7+9=\",sum)"
      ],
      "execution_count": 6,
      "outputs": [
        {
          "output_type": "stream",
          "text": [
            "1+3+5+7+9= 25\n"
          ],
          "name": "stdout"
        }
      ]
    },
    {
      "cell_type": "code",
      "metadata": {
        "id": "v-PC5LdOqhSa",
        "colab_type": "code",
        "colab": {
          "base_uri": "https://localhost:8080/",
          "height": 34
        },
        "outputId": "e7e0542a-45dd-41d4-f740-fd8166474193"
      },
      "source": [
        "sum=0\n",
        "i=0\n",
        "while sum<=1000:\n",
        "  i+=1\n",
        "  sum+=i*i\n",
        "print(\"最小的n值為\",i)"
      ],
      "execution_count": 7,
      "outputs": [
        {
          "output_type": "stream",
          "text": [
            "最小的n值為 14\n"
          ],
          "name": "stdout"
        }
      ]
    }
  ]
}